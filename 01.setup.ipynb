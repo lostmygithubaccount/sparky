{
 "cells": [
  {
   "cell_type": "markdown",
   "metadata": {},
   "source": [
    "## Dev magic"
   ]
  },
  {
   "cell_type": "code",
   "execution_count": 1,
   "metadata": {
    "collapsed": true,
    "jupyter": {
     "outputs_hidden": true
    },
    "outputExpanded": false
   },
   "outputs": [
    {
     "name": "stdout",
     "output_type": "stream",
     "text": [
      "Collecting sparkmagic==0.14.0 from https://omix.blob.core.windows.net/synapse/sparkmagic-0.14.0-py3-none-any.whl\n",
      "\u001b[?25l  Downloading https://omix.blob.core.windows.net/synapse/sparkmagic-0.14.0-py3-none-any.whl (4.2MB)\n",
      "\u001b[K     |████████████████████████████████| 4.2MB 543kB/s eta 0:00:01\n",
      "\u001b[?25hCollecting autovizwidget>=0.6 (from sparkmagic==0.14.0)\n",
      "  Downloading https://files.pythonhosted.org/packages/17/bb/d7d725dc3288354c4431dbf53aa40d0014379ec9a45475805f62436573ec/autovizwidget-0.15.0.tar.gz\n",
      "Requirement already satisfied: adal in /anaconda/envs/azureml_py36/lib/python3.6/site-packages (from sparkmagic==0.14.0) (1.2.2)\n",
      "Requirement already satisfied: msrestazure in /anaconda/envs/azureml_py36/lib/python3.6/site-packages (from sparkmagic==0.14.0) (0.6.2)\n",
      "Requirement already satisfied: requests in /anaconda/envs/azureml_py36/lib/python3.6/site-packages (from sparkmagic==0.14.0) (2.22.0)\n",
      "Requirement already satisfied: tornado>=4 in /anaconda/envs/azureml_py36/lib/python3.6/site-packages (from sparkmagic==0.14.0) (6.0.3)\n",
      "Collecting requests-kerberos>=0.8.0 (from sparkmagic==0.14.0)\n",
      "  Downloading https://files.pythonhosted.org/packages/ee/a2/866f2b9a60f75055137b9ad127033e397963b2c4769d4b5fab1c3c7e8be3/requests_kerberos-0.12.0-py2.py3-none-any.whl\n",
      "Requirement already satisfied: ipywidgets>5.0.0 in /anaconda/envs/azureml_py36/lib/python3.6/site-packages (from sparkmagic==0.14.0) (7.5.1)\n",
      "Requirement already satisfied: pandas>=0.17.1 in /anaconda/envs/azureml_py36/lib/python3.6/site-packages (from sparkmagic==0.14.0) (0.23.4)\n",
      "Requirement already satisfied: numpy in /anaconda/envs/azureml_py36/lib/python3.6/site-packages (from sparkmagic==0.14.0) (1.16.2)\n",
      "Requirement already satisfied: nose in /anaconda/envs/azureml_py36/lib/python3.6/site-packages (from sparkmagic==0.14.0) (1.3.7)\n",
      "Requirement already satisfied: ipykernel in /anaconda/envs/azureml_py36/lib/python3.6/site-packages (from sparkmagic==0.14.0) (5.1.3)\n",
      "Collecting hdijupyterutils>=0.6 (from sparkmagic==0.14.0)\n",
      "  Downloading https://files.pythonhosted.org/packages/a9/b9/4daa0d8319a9e9101d6d6c8af1f5b1e87178542a70995a4ff2611005cc98/hdijupyterutils-0.15.0.tar.gz\n",
      "Requirement already satisfied: mock in /anaconda/envs/azureml_py36/lib/python3.6/site-packages (from sparkmagic==0.14.0) (3.0.5)\n",
      "Requirement already satisfied: notebook>=4.2 in /anaconda/envs/azureml_py36/lib/python3.6/site-packages (from sparkmagic==0.14.0) (6.0.0)\n",
      "Requirement already satisfied: ipython>=4.0.2 in /anaconda/envs/azureml_py36/lib/python3.6/site-packages (from sparkmagic==0.14.0) (7.8.0)\n",
      "Collecting plotly>=3 (from autovizwidget>=0.6->sparkmagic==0.14.0)\n",
      "\u001b[?25l  Downloading https://files.pythonhosted.org/packages/f5/c3/03a183b94441da857e7d2b0564cb482bd15824dc1af2d2b337ea6e538c8f/plotly-4.5.4-py2.py3-none-any.whl (7.1MB)\n",
      "\u001b[K     |████████████████████████████████| 7.1MB 10.7MB/s eta 0:00:01\n",
      "\u001b[?25hRequirement already satisfied: PyJWT>=1.0.0 in /anaconda/envs/azureml_py36/lib/python3.6/site-packages (from adal->sparkmagic==0.14.0) (1.7.1)\n",
      "Requirement already satisfied: cryptography>=1.1.0 in /anaconda/envs/azureml_py36/lib/python3.6/site-packages (from adal->sparkmagic==0.14.0) (2.7)\n",
      "Requirement already satisfied: python-dateutil>=2.1.0 in /anaconda/envs/azureml_py36/lib/python3.6/site-packages (from adal->sparkmagic==0.14.0) (2.8.0)\n",
      "Requirement already satisfied: msrest<2.0.0,>=0.6.0 in /anaconda/envs/azureml_py36/lib/python3.6/site-packages (from msrestazure->sparkmagic==0.14.0) (0.6.10)\n",
      "Requirement already satisfied: idna<2.9,>=2.5 in /anaconda/envs/azureml_py36/lib/python3.6/site-packages (from requests->sparkmagic==0.14.0) (2.8)\n",
      "Requirement already satisfied: urllib3!=1.25.0,!=1.25.1,<1.26,>=1.21.1 in /anaconda/envs/azureml_py36/lib/python3.6/site-packages (from requests->sparkmagic==0.14.0) (1.24.2)\n",
      "Requirement already satisfied: certifi>=2017.4.17 in /anaconda/envs/azureml_py36/lib/python3.6/site-packages (from requests->sparkmagic==0.14.0) (2019.11.28)\n",
      "Requirement already satisfied: chardet<3.1.0,>=3.0.2 in /anaconda/envs/azureml_py36/lib/python3.6/site-packages (from requests->sparkmagic==0.14.0) (3.0.4)\n",
      "Collecting pykerberos<2.0.0,>=1.1.8; sys_platform != \"win32\" (from requests-kerberos>=0.8.0->sparkmagic==0.14.0)\n",
      "  Downloading https://files.pythonhosted.org/packages/9a/b8/1ec56b6fa8a2e2a81420bd3d90e70b59fc83f6b857fb2c2c37accddc8be3/pykerberos-1.2.1.tar.gz\n",
      "Requirement already satisfied: widgetsnbextension~=3.5.0 in /anaconda/envs/azureml_py36/lib/python3.6/site-packages (from ipywidgets>5.0.0->sparkmagic==0.14.0) (3.5.1)\n",
      "Requirement already satisfied: traitlets>=4.3.1 in /anaconda/envs/azureml_py36/lib/python3.6/site-packages (from ipywidgets>5.0.0->sparkmagic==0.14.0) (4.3.3)\n",
      "Requirement already satisfied: nbformat>=4.2.0 in /anaconda/envs/azureml_py36/lib/python3.6/site-packages (from ipywidgets>5.0.0->sparkmagic==0.14.0) (4.4.0)\n",
      "Requirement already satisfied: pytz>=2011k in /anaconda/envs/azureml_py36/lib/python3.6/site-packages (from pandas>=0.17.1->sparkmagic==0.14.0) (2019.3)\n",
      "Requirement already satisfied: jupyter-client in /anaconda/envs/azureml_py36/lib/python3.6/site-packages (from ipykernel->sparkmagic==0.14.0) (5.3.3)\n",
      "Requirement already satisfied: jupyter>=1 in /anaconda/envs/azureml_py36/lib/python3.6/site-packages (from hdijupyterutils>=0.6->sparkmagic==0.14.0) (1.0.0)\n",
      "Requirement already satisfied: six in /anaconda/envs/azureml_py36/lib/python3.6/site-packages (from mock->sparkmagic==0.14.0) (1.13.0)\n",
      "Requirement already satisfied: nbconvert in /anaconda/envs/azureml_py36/lib/python3.6/site-packages (from notebook>=4.2->sparkmagic==0.14.0) (5.4.1)\n",
      "Requirement already satisfied: Send2Trash in /anaconda/envs/azureml_py36/lib/python3.6/site-packages (from notebook>=4.2->sparkmagic==0.14.0) (1.5.0)\n",
      "Requirement already satisfied: ipython-genutils in /anaconda/envs/azureml_py36/lib/python3.6/site-packages (from notebook>=4.2->sparkmagic==0.14.0) (0.2.0)\n",
      "Requirement already satisfied: pyzmq>=17 in /anaconda/envs/azureml_py36/lib/python3.6/site-packages (from notebook>=4.2->sparkmagic==0.14.0) (18.1.0)\n",
      "Requirement already satisfied: terminado>=0.8.1 in /anaconda/envs/azureml_py36/lib/python3.6/site-packages (from notebook>=4.2->sparkmagic==0.14.0) (0.8.2)\n",
      "Requirement already satisfied: prometheus-client in /anaconda/envs/azureml_py36/lib/python3.6/site-packages (from notebook>=4.2->sparkmagic==0.14.0) (0.7.1)\n",
      "Requirement already satisfied: jinja2 in /anaconda/envs/azureml_py36/lib/python3.6/site-packages (from notebook>=4.2->sparkmagic==0.14.0) (2.10.3)\n",
      "Requirement already satisfied: jupyter-core>=4.4.0 in /anaconda/envs/azureml_py36/lib/python3.6/site-packages (from notebook>=4.2->sparkmagic==0.14.0) (4.5.0)\n",
      "Requirement already satisfied: decorator in /anaconda/envs/azureml_py36/lib/python3.6/site-packages (from ipython>=4.0.2->sparkmagic==0.14.0) (4.4.0)\n",
      "Requirement already satisfied: setuptools>=18.5 in /anaconda/envs/azureml_py36/lib/python3.6/site-packages (from ipython>=4.0.2->sparkmagic==0.14.0) (41.4.0)\n",
      "Requirement already satisfied: prompt-toolkit<2.1.0,>=2.0.0 in /anaconda/envs/azureml_py36/lib/python3.6/site-packages (from ipython>=4.0.2->sparkmagic==0.14.0) (2.0.10)\n",
      "Requirement already satisfied: backcall in /anaconda/envs/azureml_py36/lib/python3.6/site-packages (from ipython>=4.0.2->sparkmagic==0.14.0) (0.1.0)\n",
      "Requirement already satisfied: pexpect; sys_platform != \"win32\" in /anaconda/envs/azureml_py36/lib/python3.6/site-packages (from ipython>=4.0.2->sparkmagic==0.14.0) (4.7.0)\n",
      "Requirement already satisfied: jedi>=0.10 in /anaconda/envs/azureml_py36/lib/python3.6/site-packages (from ipython>=4.0.2->sparkmagic==0.14.0) (0.15.1)\n",
      "Requirement already satisfied: pygments in /anaconda/envs/azureml_py36/lib/python3.6/site-packages (from ipython>=4.0.2->sparkmagic==0.14.0) (2.4.2)\n",
      "Requirement already satisfied: pickleshare in /anaconda/envs/azureml_py36/lib/python3.6/site-packages (from ipython>=4.0.2->sparkmagic==0.14.0) (0.7.5)\n",
      "Collecting retrying>=1.3.3 (from plotly>=3->autovizwidget>=0.6->sparkmagic==0.14.0)\n",
      "  Downloading https://files.pythonhosted.org/packages/44/ef/beae4b4ef80902f22e3af073397f079c96969c69b2c7d52a57ea9ae61c9d/retrying-1.3.3.tar.gz\n",
      "Requirement already satisfied: cffi!=1.11.3,>=1.8 in /anaconda/envs/azureml_py36/lib/python3.6/site-packages (from cryptography>=1.1.0->adal->sparkmagic==0.14.0) (1.12.3)\n",
      "Requirement already satisfied: asn1crypto>=0.21.0 in /anaconda/envs/azureml_py36/lib/python3.6/site-packages (from cryptography>=1.1.0->adal->sparkmagic==0.14.0) (1.0.1)\n",
      "Requirement already satisfied: isodate>=0.6.0 in /anaconda/envs/azureml_py36/lib/python3.6/site-packages (from msrest<2.0.0,>=0.6.0->msrestazure->sparkmagic==0.14.0) (0.6.0)\n",
      "Requirement already satisfied: requests-oauthlib>=0.5.0 in /anaconda/envs/azureml_py36/lib/python3.6/site-packages (from msrest<2.0.0,>=0.6.0->msrestazure->sparkmagic==0.14.0) (1.3.0)\n",
      "Requirement already satisfied: jsonschema!=2.5.0,>=2.4 in /anaconda/envs/azureml_py36/lib/python3.6/site-packages (from nbformat>=4.2.0->ipywidgets>5.0.0->sparkmagic==0.14.0) (3.0.2)\n",
      "Requirement already satisfied: qtconsole in /anaconda/envs/azureml_py36/lib/python3.6/site-packages (from jupyter>=1->hdijupyterutils>=0.6->sparkmagic==0.14.0) (4.5.5)\n",
      "Requirement already satisfied: jupyter-console in /anaconda/envs/azureml_py36/lib/python3.6/site-packages (from jupyter>=1->hdijupyterutils>=0.6->sparkmagic==0.14.0) (6.0.0)\n",
      "Requirement already satisfied: defusedxml in /anaconda/envs/azureml_py36/lib/python3.6/site-packages (from nbconvert->notebook>=4.2->sparkmagic==0.14.0) (0.6.0)\n",
      "Requirement already satisfied: mistune>=0.8.1 in /anaconda/envs/azureml_py36/lib/python3.6/site-packages (from nbconvert->notebook>=4.2->sparkmagic==0.14.0) (0.8.4)\n",
      "Requirement already satisfied: pandocfilters>=1.4.1 in /anaconda/envs/azureml_py36/lib/python3.6/site-packages (from nbconvert->notebook>=4.2->sparkmagic==0.14.0) (1.4.2)\n",
      "Requirement already satisfied: entrypoints>=0.2.2 in /anaconda/envs/azureml_py36/lib/python3.6/site-packages (from nbconvert->notebook>=4.2->sparkmagic==0.14.0) (0.3)\n",
      "Requirement already satisfied: testpath in /anaconda/envs/azureml_py36/lib/python3.6/site-packages (from nbconvert->notebook>=4.2->sparkmagic==0.14.0) (0.4.2)\n",
      "Requirement already satisfied: bleach in /anaconda/envs/azureml_py36/lib/python3.6/site-packages (from nbconvert->notebook>=4.2->sparkmagic==0.14.0) (3.1.0)\n",
      "Requirement already satisfied: MarkupSafe>=0.23 in /anaconda/envs/azureml_py36/lib/python3.6/site-packages (from jinja2->notebook>=4.2->sparkmagic==0.14.0) (1.1.1)\n",
      "Requirement already satisfied: wcwidth in /anaconda/envs/azureml_py36/lib/python3.6/site-packages (from prompt-toolkit<2.1.0,>=2.0.0->ipython>=4.0.2->sparkmagic==0.14.0) (0.1.7)\n",
      "Requirement already satisfied: ptyprocess>=0.5 in /anaconda/envs/azureml_py36/lib/python3.6/site-packages (from pexpect; sys_platform != \"win32\"->ipython>=4.0.2->sparkmagic==0.14.0) (0.6.0)\n",
      "Requirement already satisfied: parso>=0.5.0 in /anaconda/envs/azureml_py36/lib/python3.6/site-packages (from jedi>=0.10->ipython>=4.0.2->sparkmagic==0.14.0) (0.5.1)\n",
      "Requirement already satisfied: pycparser in /anaconda/envs/azureml_py36/lib/python3.6/site-packages (from cffi!=1.11.3,>=1.8->cryptography>=1.1.0->adal->sparkmagic==0.14.0) (2.19)\n",
      "Requirement already satisfied: oauthlib>=3.0.0 in /anaconda/envs/azureml_py36/lib/python3.6/site-packages (from requests-oauthlib>=0.5.0->msrest<2.0.0,>=0.6.0->msrestazure->sparkmagic==0.14.0) (3.1.0)\n",
      "Requirement already satisfied: pyrsistent>=0.14.0 in /anaconda/envs/azureml_py36/lib/python3.6/site-packages (from jsonschema!=2.5.0,>=2.4->nbformat>=4.2.0->ipywidgets>5.0.0->sparkmagic==0.14.0) (0.15.4)\n",
      "Requirement already satisfied: attrs>=17.4.0 in /anaconda/envs/azureml_py36/lib/python3.6/site-packages (from jsonschema!=2.5.0,>=2.4->nbformat>=4.2.0->ipywidgets>5.0.0->sparkmagic==0.14.0) (19.2.0)\n",
      "Requirement already satisfied: webencodings in /anaconda/envs/azureml_py36/lib/python3.6/site-packages (from bleach->nbconvert->notebook>=4.2->sparkmagic==0.14.0) (0.5.1)\n",
      "Building wheels for collected packages: autovizwidget, hdijupyterutils, pykerberos, retrying\n",
      "  Building wheel for autovizwidget (setup.py) ... \u001b[?25ldone\n",
      "\u001b[?25h  Created wheel for autovizwidget: filename=autovizwidget-0.15.0-cp36-none-any.whl size=14550 sha256=8a5e9efe6f9798d81bc483cb4619875d0e0db9e4843896f5dc16a68318e8711d\n",
      "  Stored in directory: /home/azureuser/.cache/pip/wheels/c8/09/b3/7851bdad56450e74338735e062864eb8f74fea8517d31f9d0b\n",
      "  Building wheel for hdijupyterutils (setup.py) ... \u001b[?25ldone\n",
      "\u001b[?25h  Created wheel for hdijupyterutils: filename=hdijupyterutils-0.15.0-cp36-none-any.whl size=7668 sha256=396353c98f2aee3427d3215a3fdce7a20193a4fd0d4de356618228e6324b05e1\n",
      "  Stored in directory: /home/azureuser/.cache/pip/wheels/7e/f0/ad/29b0902eb1384bf2691d6baa61f2cfce35f2370058e8c732cc\n",
      "  Building wheel for pykerberos (setup.py) ... \u001b[?25ldone\n",
      "\u001b[?25h  Created wheel for pykerberos: filename=pykerberos-1.2.1-cp36-cp36m-linux_x86_64.whl size=56074 sha256=7901d602ae318d920fc4cdba84ea49b1c009f8248ab59c8c9dea8c506783ca30\n",
      "  Stored in directory: /home/azureuser/.cache/pip/wheels/c7/a7/07/d414c22754acf5822ccce48b41822142974ec103057c8305e7\n",
      "  Building wheel for retrying (setup.py) ... \u001b[?25ldone\n",
      "\u001b[?25h  Created wheel for retrying: filename=retrying-1.3.3-cp36-none-any.whl size=11429 sha256=72d9e4abe8e6c54f344a95c96ccb58abc4cac3bcfd6a49f9113e7284921e79ee\n",
      "  Stored in directory: /home/azureuser/.cache/pip/wheels/d7/a9/33/acc7b709e2a35caa7d4cae442f6fe6fbf2c43f80823d46460c\n",
      "Successfully built autovizwidget hdijupyterutils pykerberos retrying\n",
      "Installing collected packages: retrying, plotly, hdijupyterutils, autovizwidget, pykerberos, requests-kerberos, sparkmagic\n",
      "Successfully installed autovizwidget-0.15.0 hdijupyterutils-0.15.0 plotly-4.5.4 pykerberos-1.2.1 requests-kerberos-0.12.0 retrying-1.3.3 sparkmagic-0.14.0\n"
     ]
    }
   ],
   "source": [
    "!pip install https://omix.blob.core.windows.net/synapse/sparkmagic-0.14.0-py3-none-any.whl"
   ]
  },
  {
   "cell_type": "code",
   "execution_count": 2,
   "metadata": {
    "collapsed": false,
    "jupyter": {
     "outputs_hidden": false,
     "source_hidden": false
    },
    "nteract": {
     "transient": {
      "deleting": false
     }
    }
   },
   "outputs": [
    {
     "name": "stdout",
     "output_type": "stream",
     "text": [
      "Enabling notebook extension sparkmagic/spark-progress-indicator/module...\n",
      "      - Validating: \u001b[32mOK\u001b[0m\n"
     ]
    }
   ],
   "source": [
    "!jupyter nbextension enable --user --py sparkmagic.livyclientlib.progress_indicator"
   ]
  }
 ],
 "metadata": {
  "kernel_info": {
   "name": "python3"
  },
  "kernelspec": {
   "display_name": "Python 3",
   "language": "python",
   "name": "python3"
  },
  "language_info": {
   "codemirror_mode": {
    "name": "ipython",
    "version": 3
   },
   "file_extension": ".py",
   "mimetype": "text/x-python",
   "name": "python",
   "nbconvert_exporter": "python",
   "pygments_lexer": "ipython3",
   "version": "3.6.9"
  },
  "nteract": {
   "version": "nteract-front-end@1.0.0"
  }
 },
 "nbformat": 4,
 "nbformat_minor": 4
}

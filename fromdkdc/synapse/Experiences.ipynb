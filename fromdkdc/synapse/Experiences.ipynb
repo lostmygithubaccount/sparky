{
 "cells": [
  {
   "cell_type": "markdown",
   "metadata": {},
   "source": [
    "## Setup\n",
    "First of all, user needs open a notebook page by \"Small Rectangle\", Jupyter or JupyterLab"
   ]
  },
  {
   "cell_type": "markdown",
   "metadata": {},
   "source": [
    "### 1. Install the package"
   ]
  },
  {
   "cell_type": "code",
   "execution_count": null,
   "metadata": {},
   "outputs": [],
   "source": [
    "!pip install azureml-sparkmagic"
   ]
  },
  {
   "cell_type": "markdown",
   "metadata": {},
   "source": [
    "### 2. (Optional) Enable progress indicator"
   ]
  },
  {
   "cell_type": "code",
   "execution_count": null,
   "metadata": {},
   "outputs": [
    {
     "name": "stdout",
     "output_type": "stream",
     "text": [
      "Enabling notebook extension sparkmagic/spark-progress-indicator/module...\n",
      "      - Validating: ok\n"
     ]
    }
   ],
   "source": [
    "# For JupyterLab, it needs another command\n",
    "!jupyter nbextension enable --user --py azureml.sparkmagic.progress_indicator"
   ]
  },
  {
   "cell_type": "markdown",
   "metadata": {},
   "source": [
    "### 3. (Optional) Enable auto-load"
   ]
  },
  {
   "cell_type": "code",
   "execution_count": null,
   "metadata": {},
   "outputs": [],
   "source": [
    "# This command will override existing ipython config\n",
    "!ipython profile create && echo \"c.InteractiveShellApp.extensions.append('azureml.sparkmagic.magics')\" >>  $(ipython profile locate default)/ipython_kernel_config.py"
   ]
  },
  {
   "cell_type": "markdown",
   "metadata": {
    "nteract": {
     "transient": {
      "deleting": false
     }
    }
   },
   "source": [
    "## Start to work\n",
    "### 1. Load sparkmagic if auto-load is not enbled"
   ]
  },
  {
   "cell_type": "code",
   "execution_count": null,
   "metadata": {
    "jupyter": {
     "outputs_hidden": false,
     "source_hidden": false
    },
    "nteract": {
     "transient": {
      "deleting": false
     }
    }
   },
   "outputs": [],
   "source": [
    "%load_ext azureml.sparkmagic.magics"
   ]
  },
  {
   "cell_type": "markdown",
   "metadata": {},
   "source": [
    "### 2. Start Spark Session\n",
    "Start a new session will stop current running session if any."
   ]
  },
  {
   "cell_type": "code",
   "execution_count": null,
   "metadata": {},
   "outputs": [
    {
     "name": "stdout",
     "output_type": "stream",
     "text": [
      "To sign in, use a web browser to open the page https://microsoft.com/devicelogin and enter the code XXXXXXXXX to authenticate.\n",
      "Starting Spark application ...\n",
      "SparkSession available as 'spark'.\n",
      "SparkContext available as 'sc'.\n"
     ]
    }
   ],
   "source": [
    "# You can change to any Synapse workspace you can access\n",
    "%spark start --synapse hochsynapse --sparkpool hochpool"
   ]
  },
  {
   "cell_type": "markdown",
   "metadata": {},
   "source": [
    "### 3. Submit Code"
   ]
  },
  {
   "cell_type": "code",
   "execution_count": null,
   "metadata": {},
   "outputs": [
    {
     "name": "stdout",
     "output_type": "stream",
     "text": [
      "+--------------------+-----+\n",
      "|         Distributor|count|\n",
      "+--------------------+-----+\n",
      "|        Warner Bros.|  318|\n",
      "|       Sony Pictures|  307|\n",
      "|  Paramount Pictures|  257|\n",
      "|           Universal|  254|\n",
      "|Walt Disney Pictures|  232|\n",
      "|                    |  232|\n",
      "|    20th Century Fox|  229|\n",
      "|                 MGM|  173|\n",
      "|             Miramax|  137|\n",
      "|            New Line|  136|\n",
      "+--------------------+-----+\n",
      "only showing top 10 rows\n"
     ]
    }
   ],
   "source": [
    "%%spark\n",
    "\n",
    "# get workspace\n",
    "from azureml.core import Workspace\n",
    "subscription_id = '35f16a99-532a-4a47-9e93-00305f6c40f2'\n",
    "resource_group = 'arthfa_test'\n",
    "workspace_name = 'arthfa_test_azureml_ws'\n",
    "workspace = Workspace(subscription_id, resource_group, workspace_name)\n",
    "\n",
    "# get dataset\n",
    "from azureml.core import Dataset\n",
    "ds = Dataset.get(workspace, name = 'movies-yang')\n",
    "df = ds.to_pandas_dataframe() \n",
    "\n",
    "# apply spark transforms\n",
    "from  pyspark.sql.functions import desc\n",
    "spark_df = sqlContext.createDataFrame(df)\n",
    "spark_df.groupBy('Distributor').count().orderBy(desc('count')).show(10)"
   ]
  },
  {
   "cell_type": "markdown",
   "metadata": {},
   "source": [
    "### 4. Show Session Status\n",
    "When user want to see spark page, this command can provide the url."
   ]
  },
  {
   "cell_type": "code",
   "execution_count": null,
   "metadata": {},
   "outputs": [
    {
     "name": "stdout",
     "output_type": "stream",
     "text": [
      "{'SessionId': '181', 'ApplicationId': 'application_1584322909487_0001', 'State': 'idle', 'Url': 'https://web.azuresynapse.net/monitoring/sparkapplication/aml34214?workspace=/subscriptions/35f16a99-532a-4a47-9e93-00305f6c40f2/resourceGroups/hoch/providers/Microsoft.Synapse/workspaces/hochsynapse&livyId=181&sparkPoolName=hochpool'}\n"
     ]
    }
   ],
   "source": [
    "%spark status"
   ]
  },
  {
   "cell_type": "markdown",
   "metadata": {},
   "source": [
    "### 5. Stop Session\n",
    "Usually, user don't need to do this explicitly. The session can be shutdown automatically after timeout."
   ]
  },
  {
   "cell_type": "code",
   "execution_count": null,
   "metadata": {},
   "outputs": [],
   "source": [
    "%spark stop"
   ]
  },
  {
   "cell_type": "markdown",
   "metadata": {},
   "source": [
    "### 6. Set and Get Session Config\n",
    "The new config will apply to new session. "
   ]
  },
  {
   "cell_type": "code",
   "execution_count": null,
   "metadata": {},
   "outputs": [
    {
     "name": "stdout",
     "output_type": "stream",
     "text": [
      "{'driverMemory': '8g', 'driverCores': 2, 'executorMemory': '8g', 'executorCores': 2, 'numExecutors': 2}\n"
     ]
    }
   ],
   "source": [
    "%%spark config\n",
    "{\n",
    "    \"driverMemory\":\"8g\",\n",
    "    \"driverCores\":2,\n",
    "    \"executorMemory\":\"8g\",\n",
    "    \"executorCores\":2,\n",
    "    \"numExecutors\":2\n",
    "}"
   ]
  }
 ],
 "metadata": {
  "kernel_info": {
   "name": "python3"
  },
  "kernelspec": {
   "display_name": "Python 3",
   "language": "python",
   "name": "python3"
  },
  "language_info": {
   "codemirror_mode": {
    "name": "ipython",
    "version": 3
   },
   "file_extension": ".py",
   "mimetype": "text/x-python",
   "name": "python",
   "nbconvert_exporter": "python",
   "pygments_lexer": "ipython3",
   "version": "3.7.6"
  },
  "nteract": {
   "version": "nteract-front-end@1.0.0"
  },
  "saveOutput": true
 },
 "nbformat": 4,
 "nbformat_minor": 2
}
